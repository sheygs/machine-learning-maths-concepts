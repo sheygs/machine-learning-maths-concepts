{
 "cells": [
  {
   "cell_type": "code",
   "execution_count": 47,
   "metadata": {},
   "outputs": [],
   "source": [
    "import numpy as np\n",
    "\n",
    "title = 'NumPy and Arrays 🚀'"
   ]
  },
  {
   "cell_type": "markdown",
   "metadata": {},
   "source": [
    "### 1 - Create NumPy Array\n",
    "\n",
    "The 1-D array can be created by using the function `array()` which takes a list of values as argument and returns the a 1-D array"
   ]
  },
  {
   "cell_type": "code",
   "execution_count": 11,
   "metadata": {},
   "outputs": [
    {
     "name": "stdout",
     "output_type": "stream",
     "text": [
      "[1 2 3]\n"
     ]
    }
   ],
   "source": [
    "one_dimen_array = np.array([1, 2, 3])\n",
    "print(one_dimen_array)"
   ]
  },
  {
   "cell_type": "markdown",
   "metadata": {},
   "source": [
    "Another method of creating an array is using the `np.arrange(value)` which returns an array of positive values within the given interval"
   ]
  },
  {
   "cell_type": "code",
   "execution_count": 21,
   "metadata": {},
   "outputs": [
    {
     "name": "stdout",
     "output_type": "stream",
     "text": [
      "[0 1 2 3 4]\n"
     ]
    }
   ],
   "source": [
    "# negatives do not apply here\n",
    "# creates an array of 5 integers from 0 to the specified value\n",
    "a = np.arange(5)\n",
    "print(a)"
   ]
  },
  {
   "cell_type": "code",
   "execution_count": 20,
   "metadata": {},
   "outputs": [
    {
     "name": "stdout",
     "output_type": "stream",
     "text": [
      "[ 1  5  9 13 17]\n"
     ]
    }
   ],
   "source": [
    "# create an array from 1 to 20 with a gap of 4\n",
    "# np.arange(start, stop, step)\n",
    "a = np.arange(1, 20, 4)\n",
    "print(a)"
   ]
  },
  {
   "cell_type": "code",
   "execution_count": 29,
   "metadata": {},
   "outputs": [
    {
     "name": "stdout",
     "output_type": "stream",
     "text": [
      "line spaced array: [ 0. 20. 40.]\n",
      "line spaced array int: [ 0 20 40]\n",
      "c_float: [1. 3. 5. 7. 9.]\n",
      "char array: ['NumPy and Arrays 🚀']\n",
      "data type: <U18\n"
     ]
    }
   ],
   "source": [
    "# create an array with 3 evenly spaced values from 0 to 40\n",
    "line_spaced_arr = np.linspace(0, 40, 3)\n",
    "print(f'line spaced array: {line_spaced_arr}')\n",
    "\n",
    "# remove the default floating point (np.float64) from the `np.linespace`\n",
    "# by specifying the data type as another parameter\n",
    "line_spaced_arr_int = np.linspace(0, 40, 3, dtype=int)\n",
    "print(f'line spaced array int: {line_spaced_arr_int}')\n",
    "\n",
    "# using previous example\n",
    "c_float = np.arange(1, 10, 2, dtype=float)\n",
    "print(f'c_float: {c_float}')\n",
    "\n",
    "char_arr = np.array([title])\n",
    "print(f'char array: {char_arr}')\n",
    "print(f'data type: {char_arr.dtype}')"
   ]
  },
  {
   "cell_type": "code",
   "execution_count": null,
   "metadata": {},
   "outputs": [
    {
     "name": "stdout",
     "output_type": "stream",
     "text": [
      "ones_arr:  [1. 1. 1.]\n",
      "zeros_arr:  [0 0 0]\n",
      "empty arr:  [0. 0. 0.]\n",
      "random array:  [0.45615188 0.85092908 0.01764149]\n"
     ]
    }
   ],
   "source": [
    "# Return an array setting values to one\n",
    "ones_arr = np.ones(3)\n",
    "print('ones_arr: ', ones_arr)\n",
    "\n",
    "# Return a new array setting values to zero\n",
    "zeros_arr = np.zeros(3, dtype=int)\n",
    "print('zeros_arr: ', zeros_arr)\n",
    "\n",
    "# Return a new array of shape 3, without initializing entries.\n",
    "print('empty arr: ', np.empty(3))\n",
    "\n",
    "# Return a new array of shape 3 with random numbers between 0 and 1.\n",
    "rand_arr = np.random.rand(3)\n",
    "print('random array: ', rand_arr)"
   ]
  },
  {
   "cell_type": "markdown",
   "metadata": {},
   "source": [
    "### 2 - Multidimensional Arrays\n",
    "\n",
    "A two dimensional array has more than one column."
   ]
  },
  {
   "cell_type": "code",
   "execution_count": 38,
   "metadata": {},
   "outputs": [
    {
     "name": "stdout",
     "output_type": "stream",
     "text": [
      "2-D array :  [[1 2 5]\n",
      " [5 3 7]]\n"
     ]
    }
   ],
   "source": [
    "# Create a 2 dimensional array\n",
    "two_dimen = np.array([[1, 2, 5], [5, 3, 7]])\n",
    "print('2-D array : ', two_dimen)"
   ]
  },
  {
   "cell_type": "markdown",
   "metadata": {},
   "source": [
    "An alternative way to create a 2-D array is to create a 1-D array and reshape it."
   ]
  },
  {
   "cell_type": "code",
   "execution_count": 43,
   "metadata": {},
   "outputs": [
    {
     "name": "stdout",
     "output_type": "stream",
     "text": [
      "2-D array:  [[1 2 3]\n",
      " [4 5 6]]\n",
      "dimension:  2\n",
      "shape:  (2, 3)\n",
      "size:  6\n"
     ]
    }
   ],
   "source": [
    "# create a 1-D array\n",
    "one_dim = np.array([1, 2, 3, 4, 5, 6])\n",
    "\n",
    "# apply the reshape() method which returns a 2-D array\n",
    "two_dim = np.reshape(one_dim, (2, 3))\n",
    "print('2-D array: ', two_dim)\n",
    "\n",
    "# Return the dimension of the 2-D\n",
    "print('dimension: ', two_dim.ndim)\n",
    "\n",
    "# Return the shape of the 2-D\n",
    "print('shape: ', two_dim.shape)\n",
    "\n",
    "# Return the size of the 2-D\n",
    "print('size: ', two_dim.size)"
   ]
  },
  {
   "cell_type": "markdown",
   "metadata": {},
   "source": [
    "You can also perform maths operations on arrays as seen below:"
   ]
  },
  {
   "cell_type": "code",
   "execution_count": 46,
   "metadata": {},
   "outputs": [
    {
     "name": "stdout",
     "output_type": "stream",
     "text": [
      "sum:  [ 3  7 11]\n",
      "substraction:  [1 1 1]\n",
      "multiplication:  [ 2 12 30]\n"
     ]
    }
   ],
   "source": [
    "array_one = np.array([2, 4, 6])\n",
    "array_two = np.array([1, 3, 5])\n",
    "\n",
    "print('sum: ', array_one + array_two)\n",
    "print('substraction: ', array_one - array_two)\n",
    "print('multiplication: ', array_one * array_two)"
   ]
  },
  {
   "cell_type": "code",
   "execution_count": null,
   "metadata": {},
   "outputs": [],
   "source": []
  }
 ],
 "metadata": {
  "kernelspec": {
   "display_name": "virtual_env",
   "language": "python",
   "name": "python3"
  },
  "language_info": {
   "codemirror_mode": {
    "name": "ipython",
    "version": 3
   },
   "file_extension": ".py",
   "mimetype": "text/x-python",
   "name": "python",
   "nbconvert_exporter": "python",
   "pygments_lexer": "ipython3",
   "version": "3.9.6"
  }
 },
 "nbformat": 4,
 "nbformat_minor": 4
}
